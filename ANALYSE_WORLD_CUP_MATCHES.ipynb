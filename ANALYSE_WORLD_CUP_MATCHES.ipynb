{
 "cells": [
  {
   "cell_type": "markdown",
   "metadata": {},
   "source": [
    "## FIFA WORLD CUP ANALYSIS\n",
    "\n",
    "## The following questions will be answered using the codes below:\n",
    "\n",
    "#### 1. How many matches were played in each world cup year from 1930? \n",
    "#### 2. Total goals scored for each tournament year.\n",
    "#### 3. All teams who have reached finals and how many times?\n",
    "#### 4. All teams who have reached semi-finals and how many times?\n",
    "#### 5. How many goals are average goals scored in all finals?\n",
    "#### 6. How many goals are average goals scored in all semi-finals?\n",
    "#### 7. How many goals are average goals scored in all Quarter-finals?\n",
    "#### 8. How many matches were played outside of Quarter-finals and above?\n",
    "#### 9. Create a new column for the outcome of every match(outcome=D for Draw, A for Away team wins, H for home team wins).\n",
    "#### 10. Create a new column for  the winner of every match, also apply the away goal rule in this column.\n"
   ]
  },
  {
   "cell_type": "code",
   "execution_count": 1,
   "metadata": {},
   "outputs": [],
   "source": [
    "#importing the necessary libraries\n",
    "import numpy as np\n",
    "import seaborn as sns\n",
    "import pandas as pd\n",
    "import matplotlib.pyplot as plt\n",
    "%matplotlib inline"
   ]
  },
  {
   "cell_type": "code",
   "execution_count": 2,
   "metadata": {},
   "outputs": [],
   "source": [
    "#setting up the visualizations\n",
    "sns.set_style(style='white')\n",
    "sns.set(rc={\n",
    "    'figure.figsize':(12,7),\n",
    "    'axes.facecolor': 'white',\n",
    "    'axes.grid': True, 'grid.color': '.9',\n",
    "    'axes.linewidth': 1.0,\n",
    "    'grid.linestyle': u'-'},font_scale=1.5)\n",
    "custom_colors = [\"#3498db\", \"#95a5a6\",\"#34495e\", \"#2ecc71\", \"#e74c3c\"]\n",
    "sns.set_palette(custom_colors)"
   ]
  },
  {
   "cell_type": "code",
   "execution_count": 3,
   "metadata": {},
   "outputs": [
    {
     "data": {
      "text/html": [
       "<div>\n",
       "<style scoped>\n",
       "    .dataframe tbody tr th:only-of-type {\n",
       "        vertical-align: middle;\n",
       "    }\n",
       "\n",
       "    .dataframe tbody tr th {\n",
       "        vertical-align: top;\n",
       "    }\n",
       "\n",
       "    .dataframe thead th {\n",
       "        text-align: right;\n",
       "    }\n",
       "</style>\n",
       "<table border=\"1\" class=\"dataframe\">\n",
       "  <thead>\n",
       "    <tr style=\"text-align: right;\">\n",
       "      <th></th>\n",
       "      <th>Year</th>\n",
       "      <th>Date</th>\n",
       "      <th>Time</th>\n",
       "      <th>Round</th>\n",
       "      <th>Stadium</th>\n",
       "      <th>City</th>\n",
       "      <th>HomeTeam</th>\n",
       "      <th>HomeGoals</th>\n",
       "      <th>AwayGoals</th>\n",
       "      <th>AwayTeam</th>\n",
       "      <th>Observation</th>\n",
       "    </tr>\n",
       "  </thead>\n",
       "  <tbody>\n",
       "    <tr>\n",
       "      <th>0</th>\n",
       "      <td>1930</td>\n",
       "      <td>13-Jul-30</td>\n",
       "      <td>15:00</td>\n",
       "      <td>Group 1</td>\n",
       "      <td>Pocitos</td>\n",
       "      <td>Montevideo</td>\n",
       "      <td>France</td>\n",
       "      <td>4</td>\n",
       "      <td>1</td>\n",
       "      <td>Mexico</td>\n",
       "      <td></td>\n",
       "    </tr>\n",
       "    <tr>\n",
       "      <th>1</th>\n",
       "      <td>1930</td>\n",
       "      <td>13-Jul-30</td>\n",
       "      <td>15:00</td>\n",
       "      <td>Group 4</td>\n",
       "      <td>Parque Central</td>\n",
       "      <td>Montevideo</td>\n",
       "      <td>USA</td>\n",
       "      <td>3</td>\n",
       "      <td>0</td>\n",
       "      <td>Belgium</td>\n",
       "      <td></td>\n",
       "    </tr>\n",
       "    <tr>\n",
       "      <th>2</th>\n",
       "      <td>1930</td>\n",
       "      <td>14-Jul-30</td>\n",
       "      <td>12:45</td>\n",
       "      <td>Group 2</td>\n",
       "      <td>Parque Central</td>\n",
       "      <td>Montevideo</td>\n",
       "      <td>Yugoslavia</td>\n",
       "      <td>2</td>\n",
       "      <td>1</td>\n",
       "      <td>Brazil</td>\n",
       "      <td></td>\n",
       "    </tr>\n",
       "    <tr>\n",
       "      <th>3</th>\n",
       "      <td>1930</td>\n",
       "      <td>14-Jul-30</td>\n",
       "      <td>14:50</td>\n",
       "      <td>Group 3</td>\n",
       "      <td>Pocitos</td>\n",
       "      <td>Montevideo</td>\n",
       "      <td>Romania</td>\n",
       "      <td>3</td>\n",
       "      <td>1</td>\n",
       "      <td>Peru</td>\n",
       "      <td></td>\n",
       "    </tr>\n",
       "    <tr>\n",
       "      <th>4</th>\n",
       "      <td>1930</td>\n",
       "      <td>15-Jul-30</td>\n",
       "      <td>16:00</td>\n",
       "      <td>Group 1</td>\n",
       "      <td>Parque Central</td>\n",
       "      <td>Montevideo</td>\n",
       "      <td>Argentina</td>\n",
       "      <td>1</td>\n",
       "      <td>0</td>\n",
       "      <td>France</td>\n",
       "      <td></td>\n",
       "    </tr>\n",
       "  </tbody>\n",
       "</table>\n",
       "</div>"
      ],
      "text/plain": [
       "   Year       Date     Time    Round         Stadium         City    HomeTeam  \\\n",
       "0  1930  13-Jul-30   15:00   Group 1         Pocitos  Montevideo       France   \n",
       "1  1930  13-Jul-30   15:00   Group 4  Parque Central  Montevideo          USA   \n",
       "2  1930  14-Jul-30   12:45   Group 2  Parque Central  Montevideo   Yugoslavia   \n",
       "3  1930  14-Jul-30   14:50   Group 3         Pocitos  Montevideo      Romania   \n",
       "4  1930  15-Jul-30   16:00   Group 1  Parque Central  Montevideo    Argentina   \n",
       "\n",
       "   HomeGoals  AwayGoals AwayTeam Observation  \n",
       "0          4          1   Mexico              \n",
       "1          3          0  Belgium              \n",
       "2          2          1   Brazil              \n",
       "3          3          1     Peru              \n",
       "4          1          0   France              "
      ]
     },
     "execution_count": 3,
     "metadata": {},
     "output_type": "execute_result"
    }
   ],
   "source": [
    "#reading the data and checking the head\n",
    "world_cup= pd.read_csv(\"world_cup_results.csv\")\n",
    "world_cup.head()"
   ]
  },
  {
   "cell_type": "code",
   "execution_count": 4,
   "metadata": {},
   "outputs": [
    {
     "data": {
      "text/plain": [
       "(852, 11)"
      ]
     },
     "execution_count": 4,
     "metadata": {},
     "output_type": "execute_result"
    }
   ],
   "source": [
    "#checking the shape of the data\n",
    "world_cup.shape\n"
   ]
  },
  {
   "cell_type": "code",
   "execution_count": 5,
   "metadata": {
    "scrolled": true
   },
   "outputs": [
    {
     "name": "stdout",
     "output_type": "stream",
     "text": [
      "<class 'pandas.core.frame.DataFrame'>\n",
      "RangeIndex: 852 entries, 0 to 851\n",
      "Data columns (total 11 columns):\n",
      "Year           852 non-null int64\n",
      "Date           852 non-null object\n",
      "Time           852 non-null object\n",
      "Round          852 non-null object\n",
      "Stadium        852 non-null object\n",
      "City           852 non-null object\n",
      "HomeTeam       852 non-null object\n",
      "HomeGoals      852 non-null int64\n",
      "AwayGoals      852 non-null int64\n",
      "AwayTeam       852 non-null object\n",
      "Observation    852 non-null object\n",
      "dtypes: int64(3), object(8)\n",
      "memory usage: 73.3+ KB\n"
     ]
    }
   ],
   "source": [
    "world_cup.info()"
   ]
  },
  {
   "cell_type": "code",
   "execution_count": 6,
   "metadata": {},
   "outputs": [
    {
     "data": {
      "text/html": [
       "<div>\n",
       "<style scoped>\n",
       "    .dataframe tbody tr th:only-of-type {\n",
       "        vertical-align: middle;\n",
       "    }\n",
       "\n",
       "    .dataframe tbody tr th {\n",
       "        vertical-align: top;\n",
       "    }\n",
       "\n",
       "    .dataframe thead th {\n",
       "        text-align: right;\n",
       "    }\n",
       "</style>\n",
       "<table border=\"1\" class=\"dataframe\">\n",
       "  <thead>\n",
       "    <tr style=\"text-align: right;\">\n",
       "      <th></th>\n",
       "      <th>Year</th>\n",
       "      <th>Date</th>\n",
       "      <th>Time</th>\n",
       "      <th>Round</th>\n",
       "      <th>Stadium</th>\n",
       "      <th>City</th>\n",
       "      <th>HomeTeam</th>\n",
       "      <th>HomeGoals</th>\n",
       "      <th>AwayGoals</th>\n",
       "      <th>AwayTeam</th>\n",
       "      <th>Observation</th>\n",
       "      <th>TotalMatchGoal(s)</th>\n",
       "    </tr>\n",
       "  </thead>\n",
       "  <tbody>\n",
       "    <tr>\n",
       "      <th>0</th>\n",
       "      <td>1930</td>\n",
       "      <td>13-Jul-30</td>\n",
       "      <td>15:00</td>\n",
       "      <td>Group 1</td>\n",
       "      <td>Pocitos</td>\n",
       "      <td>Montevideo</td>\n",
       "      <td>France</td>\n",
       "      <td>4</td>\n",
       "      <td>1</td>\n",
       "      <td>Mexico</td>\n",
       "      <td></td>\n",
       "      <td>5</td>\n",
       "    </tr>\n",
       "    <tr>\n",
       "      <th>1</th>\n",
       "      <td>1930</td>\n",
       "      <td>13-Jul-30</td>\n",
       "      <td>15:00</td>\n",
       "      <td>Group 4</td>\n",
       "      <td>Parque Central</td>\n",
       "      <td>Montevideo</td>\n",
       "      <td>USA</td>\n",
       "      <td>3</td>\n",
       "      <td>0</td>\n",
       "      <td>Belgium</td>\n",
       "      <td></td>\n",
       "      <td>3</td>\n",
       "    </tr>\n",
       "    <tr>\n",
       "      <th>2</th>\n",
       "      <td>1930</td>\n",
       "      <td>14-Jul-30</td>\n",
       "      <td>12:45</td>\n",
       "      <td>Group 2</td>\n",
       "      <td>Parque Central</td>\n",
       "      <td>Montevideo</td>\n",
       "      <td>Yugoslavia</td>\n",
       "      <td>2</td>\n",
       "      <td>1</td>\n",
       "      <td>Brazil</td>\n",
       "      <td></td>\n",
       "      <td>3</td>\n",
       "    </tr>\n",
       "    <tr>\n",
       "      <th>3</th>\n",
       "      <td>1930</td>\n",
       "      <td>14-Jul-30</td>\n",
       "      <td>14:50</td>\n",
       "      <td>Group 3</td>\n",
       "      <td>Pocitos</td>\n",
       "      <td>Montevideo</td>\n",
       "      <td>Romania</td>\n",
       "      <td>3</td>\n",
       "      <td>1</td>\n",
       "      <td>Peru</td>\n",
       "      <td></td>\n",
       "      <td>4</td>\n",
       "    </tr>\n",
       "    <tr>\n",
       "      <th>4</th>\n",
       "      <td>1930</td>\n",
       "      <td>15-Jul-30</td>\n",
       "      <td>16:00</td>\n",
       "      <td>Group 1</td>\n",
       "      <td>Parque Central</td>\n",
       "      <td>Montevideo</td>\n",
       "      <td>Argentina</td>\n",
       "      <td>1</td>\n",
       "      <td>0</td>\n",
       "      <td>France</td>\n",
       "      <td></td>\n",
       "      <td>1</td>\n",
       "    </tr>\n",
       "  </tbody>\n",
       "</table>\n",
       "</div>"
      ],
      "text/plain": [
       "   Year       Date     Time    Round         Stadium         City    HomeTeam  \\\n",
       "0  1930  13-Jul-30   15:00   Group 1         Pocitos  Montevideo       France   \n",
       "1  1930  13-Jul-30   15:00   Group 4  Parque Central  Montevideo          USA   \n",
       "2  1930  14-Jul-30   12:45   Group 2  Parque Central  Montevideo   Yugoslavia   \n",
       "3  1930  14-Jul-30   14:50   Group 3         Pocitos  Montevideo      Romania   \n",
       "4  1930  15-Jul-30   16:00   Group 1  Parque Central  Montevideo    Argentina   \n",
       "\n",
       "   HomeGoals  AwayGoals AwayTeam Observation  TotalMatchGoal(s)  \n",
       "0          4          1   Mexico                              5  \n",
       "1          3          0  Belgium                              3  \n",
       "2          2          1   Brazil                              3  \n",
       "3          3          1     Peru                              4  \n",
       "4          1          0   France                              1  "
      ]
     },
     "execution_count": 6,
     "metadata": {},
     "output_type": "execute_result"
    }
   ],
   "source": [
    "#created a new colunm for the total goals scored for each matches\n",
    "world_cup[\"TotalMatchGoal(s)\"]= world_cup[\"HomeGoals\"] + world_cup[\"AwayGoals\"]\n",
    "world_cup.head()"
   ]
  },
  {
   "cell_type": "code",
   "execution_count": 7,
   "metadata": {
    "scrolled": true
   },
   "outputs": [
    {
     "data": {
      "text/plain": [
       "array(['Year', 'Date', 'Time', 'Round', 'Stadium', 'City', 'HomeTeam',\n",
       "       'HomeGoals', 'AwayGoals', 'AwayTeam', 'Observation',\n",
       "       'TotalMatchGoal(s)'], dtype=object)"
      ]
     },
     "execution_count": 7,
     "metadata": {},
     "output_type": "execute_result"
    }
   ],
   "source": [
    "#check the column names\n",
    "world_cup.columns.values"
   ]
  },
  {
   "cell_type": "code",
   "execution_count": 8,
   "metadata": {},
   "outputs": [
    {
     "data": {
      "text/html": [
       "<div>\n",
       "<style scoped>\n",
       "    .dataframe tbody tr th:only-of-type {\n",
       "        vertical-align: middle;\n",
       "    }\n",
       "\n",
       "    .dataframe tbody tr th {\n",
       "        vertical-align: top;\n",
       "    }\n",
       "\n",
       "    .dataframe thead th {\n",
       "        text-align: right;\n",
       "    }\n",
       "</style>\n",
       "<table border=\"1\" class=\"dataframe\">\n",
       "  <thead>\n",
       "    <tr style=\"text-align: right;\">\n",
       "      <th></th>\n",
       "      <th>Year</th>\n",
       "      <th>Date</th>\n",
       "      <th>Time</th>\n",
       "      <th>Round</th>\n",
       "      <th>Stadium</th>\n",
       "      <th>City</th>\n",
       "      <th>HomeTeam</th>\n",
       "      <th>HomeGoals</th>\n",
       "      <th>AwayGoals</th>\n",
       "      <th>TotalMatchGoal(s)</th>\n",
       "      <th>AwayTeam</th>\n",
       "      <th>Observation</th>\n",
       "    </tr>\n",
       "  </thead>\n",
       "  <tbody>\n",
       "    <tr>\n",
       "      <th>0</th>\n",
       "      <td>1930</td>\n",
       "      <td>13-Jul-30</td>\n",
       "      <td>15:00</td>\n",
       "      <td>Group 1</td>\n",
       "      <td>Pocitos</td>\n",
       "      <td>Montevideo</td>\n",
       "      <td>France</td>\n",
       "      <td>4</td>\n",
       "      <td>1</td>\n",
       "      <td>5</td>\n",
       "      <td>Mexico</td>\n",
       "      <td></td>\n",
       "    </tr>\n",
       "    <tr>\n",
       "      <th>1</th>\n",
       "      <td>1930</td>\n",
       "      <td>13-Jul-30</td>\n",
       "      <td>15:00</td>\n",
       "      <td>Group 4</td>\n",
       "      <td>Parque Central</td>\n",
       "      <td>Montevideo</td>\n",
       "      <td>USA</td>\n",
       "      <td>3</td>\n",
       "      <td>0</td>\n",
       "      <td>3</td>\n",
       "      <td>Belgium</td>\n",
       "      <td></td>\n",
       "    </tr>\n",
       "  </tbody>\n",
       "</table>\n",
       "</div>"
      ],
      "text/plain": [
       "   Year       Date     Time    Round         Stadium         City HomeTeam  \\\n",
       "0  1930  13-Jul-30   15:00   Group 1         Pocitos  Montevideo    France   \n",
       "1  1930  13-Jul-30   15:00   Group 4  Parque Central  Montevideo       USA   \n",
       "\n",
       "   HomeGoals  AwayGoals  TotalMatchGoal(s) AwayTeam Observation  \n",
       "0          4          1                  5   Mexico              \n",
       "1          3          0                  3  Belgium              "
      ]
     },
     "execution_count": 8,
     "metadata": {},
     "output_type": "execute_result"
    }
   ],
   "source": [
    "#rearranged the columns o the dataframe\n",
    "world_cup = world_cup[['Year', 'Date', 'Time', 'Round', 'Stadium', 'City', 'HomeTeam',\n",
    "       'HomeGoals', 'AwayGoals','TotalMatchGoal(s)', 'AwayTeam', 'Observation',\n",
    "       ]]\n",
    "world_cup.head(2)"
   ]
  },
  {
   "cell_type": "markdown",
   "metadata": {},
   "source": [
    "# 1. How many matches were played in each world cup year from 1930?"
   ]
  },
  {
   "cell_type": "code",
   "execution_count": 9,
   "metadata": {},
   "outputs": [
    {
     "data": {
      "text/plain": [
       "2014    80\n",
       "2010    64\n",
       "2006    64\n",
       "2002    64\n",
       "1998    64\n",
       "1994    52\n",
       "1990    52\n",
       "1986    52\n",
       "1982    52\n",
       "1974    38\n",
       "1978    38\n",
       "1958    35\n",
       "1970    32\n",
       "1966    32\n",
       "1962    32\n",
       "1954    26\n",
       "1950    22\n",
       "1938    18\n",
       "1930    18\n",
       "1934    17\n",
       "Name: Year, dtype: int64"
      ]
     },
     "execution_count": 9,
     "metadata": {},
     "output_type": "execute_result"
    }
   ],
   "source": [
    "matches_per_year= world_cup[\"Year\"].value_counts()\n",
    "matches_per_year"
   ]
  },
  {
   "cell_type": "code",
   "execution_count": 10,
   "metadata": {
    "scrolled": true
   },
   "outputs": [
    {
     "data": {
      "image/png": "[encoded data removed]",
      "text/plain": [
       "<Figure size 864x504 with 1 Axes>"
      ]
     },
     "metadata": {},
     "output_type": "display_data"
    }
   ],
   "source": [
    "matches_per_year.plot(kind=\"bar\",cmap=\"viridis\")\n",
    "plt.title(\"Number of matches played per world cup year\")\n",
    "plt.xlabel(\"World Cup Year\")\n",
    "plt.ylabel(\"Number of Matches played\");"
   ]
  },
  {
   "cell_type": "markdown",
   "metadata": {},
   "source": [
    "# 2. Total goals scored for each tournament year."
   ]
  },
  {
   "cell_type": "code",
   "execution_count": 11,
   "metadata": {},
   "outputs": [
    {
     "data": {
      "text/plain": [
       "Year\n",
       "1930     70\n",
       "1934     70\n",
       "1938     84\n",
       "1950     88\n",
       "1954    140\n",
       "1958    126\n",
       "1962     89\n",
       "1966     89\n",
       "1970     95\n",
       "1974     97\n",
       "1978    102\n",
       "1982    146\n",
       "1986    132\n",
       "1990    115\n",
       "1994    141\n",
       "1998    171\n",
       "2002    161\n",
       "2006    147\n",
       "2010    145\n",
       "2014    206\n",
       "Name: TotalMatchGoal(s), dtype: int64"
      ]
     },
     "execution_count": 11,
     "metadata": {},
     "output_type": "execute_result"
    }
   ],
   "source": [
    "goalsscored_per_year= world_cup.groupby(\"Year\")[\"TotalMatchGoal(s)\"].sum()\n",
    "goalsscored_per_year"
   ]
  },
  {
   "cell_type": "code",
   "execution_count": 12,
   "metadata": {
    "scrolled": true
   },
   "outputs": [
    {
     "data": {
      "image/png": "[encoded data removed]",
      "text/plain": [
       "<Figure size 864x504 with 1 Axes>"
      ]
     },
     "metadata": {},
     "output_type": "display_data"
    }
   ],
   "source": [
    "goalsscored_per_year.plot(kind=\"bar\",cmap=\"plasma\")\n",
    "plt.title(\"Number of Goals Scored per world cup year\")\n",
    "plt.xlabel(\"World Cup Year\")\n",
    "plt.ylabel(\"Number of Goals Scored\");"
   ]
  },
  {
   "cell_type": "markdown",
   "metadata": {},
   "source": [
    "# 3. All teams who have reached finals and how many times?"
   ]
  },
  {
   "cell_type": "code",
   "execution_count": 13,
   "metadata": {},
   "outputs": [],
   "source": [
    "Finalists= world_cup[world_cup[\"Round\"]==\"Final\"][[\"HomeTeam\",\"AwayTeam\"]]\n"
   ]
  },
  {
   "cell_type": "code",
   "execution_count": 14,
   "metadata": {},
   "outputs": [],
   "source": [
    "teams_in_finals =[]\n",
    "for team in Finalists[\"HomeTeam\"]:\n",
    "    teams_in_finals.append(team)\n",
    "for team in Finalists[\"AwayTeam\"]:\n",
    "    teams_in_finals.append(team)    \n"
   ]
  },
  {
   "cell_type": "code",
   "execution_count": 15,
   "metadata": {},
   "outputs": [],
   "source": [
    "from collections import Counter"
   ]
  },
  {
   "cell_type": "code",
   "execution_count": 16,
   "metadata": {},
   "outputs": [],
   "source": [
    "finalist_teams_counter=dict(Counter(teams_in_finals))\n",
    "sorted_finalist_teams_counter= {k: v for k, v in sorted(finalist_teams_counter.items(), key=lambda item: item[1])}"
   ]
  },
  {
   "cell_type": "code",
   "execution_count": 17,
   "metadata": {
    "scrolled": true
   },
   "outputs": [
    {
     "data": {
      "image/png": "[encoded data removed]",
      "text/plain": [
       "<Figure size 864x504 with 1 Axes>"
      ]
     },
     "metadata": {},
     "output_type": "display_data"
    }
   ],
   "source": [
    "keys = sorted_finalist_teams_counter.keys()\n",
    "values =sorted_finalist_teams_counter.values()\n",
    "\n",
    "plt.bar(keys, values)\n",
    "plt.title(\"Finalist Teams And Number of Times\")\n",
    "plt.xlabel(\"Finalist Teams\")\n",
    "plt.ylabel(\"Number of Times\")\n",
    "plt.xticks(rotation=90);"
   ]
  },
  {
   "cell_type": "markdown",
   "metadata": {},
   "source": [
    "# 4. All teams who have reached semi-finals and how many times?"
   ]
  },
  {
   "cell_type": "code",
   "execution_count": 18,
   "metadata": {},
   "outputs": [],
   "source": [
    "semi_finalists= world_cup[world_cup[\"Round\"]==\"Semi-finals\"][[\"HomeTeam\",\"AwayTeam\"]]\n",
    "teams_in_semifinals= []\n",
    "for teams in semi_finalists[\"HomeTeam\"]:\n",
    "    teams_in_semifinals.append(teams)\n",
    "for teams in semi_finalists[\"AwayTeam\"]:\n",
    "    teams_in_semifinals.append(teams)"
   ]
  },
  {
   "cell_type": "code",
   "execution_count": 19,
   "metadata": {
    "scrolled": true
   },
   "outputs": [
    {
     "data": {
      "text/plain": [
       "Brazil            9\n",
       "Germany FR        7\n",
       "Italy             7\n",
       "Germany           6\n",
       "Argentina         5\n",
       "France            5\n",
       "Netherlands       4\n",
       "Uruguay           4\n",
       "Sweden            3\n",
       "Portugal          2\n",
       "Hungary           2\n",
       "Czechoslovakia    2\n",
       "England           2\n",
       "Austria           2\n",
       "Yugoslavia        2\n",
       "Chile             1\n",
       "Spain             1\n",
       "Soviet Union      1\n",
       "Croatia           1\n",
       "Korea Republic    1\n",
       "Bulgaria          1\n",
       "USA               1\n",
       "Belgium           1\n",
       "Turkey            1\n",
       "Poland            1\n",
       "Name: Teams, dtype: int64"
      ]
     },
     "execution_count": 19,
     "metadata": {},
     "output_type": "execute_result"
    },
    {
     "data": {
      "image/png": "[encoded data removed]",
      "text/plain": [
       "<Figure size 864x504 with 1 Axes>"
      ]
     },
     "metadata": {},
     "output_type": "display_data"
    }
   ],
   "source": [
    "teams_in_semifinals=pd.DataFrame(teams_in_semifinals)\n",
    "teams_in_semifinals.columns=[\"Teams\"]\n",
    "teams_in_semifinalss=teams_in_semifinals[\"Teams\"].value_counts()\n",
    "teams_in_semifinalss.plot(kind=\"bar\",cmap=\"plasma\")\n",
    "plt.title(\"Semi Finalist Teams And Number of Times\")\n",
    "plt.xlabel(\" Semi Finalist Teams\")\n",
    "plt.ylabel(\"Number of Times\");\n",
    "teams_in_semifinalss"
   ]
  },
  {
   "cell_type": "markdown",
   "metadata": {},
   "source": [
    "# 5. How many goals are average goals scored in all finals?"
   ]
  },
  {
   "cell_type": "code",
   "execution_count": 20,
   "metadata": {},
   "outputs": [
    {
     "data": {
      "text/plain": [
       "69"
      ]
     },
     "execution_count": 20,
     "metadata": {},
     "output_type": "execute_result"
    }
   ],
   "source": [
    "world_cup[world_cup[\"Round\"]==\"Final\"][\"TotalMatchGoal(s)\"].sum()"
   ]
  },
  {
   "cell_type": "code",
   "execution_count": 21,
   "metadata": {},
   "outputs": [
    {
     "data": {
      "text/plain": [
       "3.45"
      ]
     },
     "execution_count": 21,
     "metadata": {},
     "output_type": "execute_result"
    }
   ],
   "source": [
    "round(world_cup[world_cup[\"Round\"]==\"Final\"][\"TotalMatchGoal(s)\"].mean(),2)"
   ]
  },
  {
   "cell_type": "markdown",
   "metadata": {},
   "source": [
    "# 6. How many goals are average goals scored in all Semi-finals?"
   ]
  },
  {
   "cell_type": "code",
   "execution_count": 22,
   "metadata": {},
   "outputs": [
    {
     "data": {
      "text/plain": [
       "131"
      ]
     },
     "execution_count": 22,
     "metadata": {},
     "output_type": "execute_result"
    }
   ],
   "source": [
    "world_cup[world_cup[\"Round\"]==\"Semi-finals\"][\"TotalMatchGoal(s)\"].sum()"
   ]
  },
  {
   "cell_type": "code",
   "execution_count": 23,
   "metadata": {
    "scrolled": true
   },
   "outputs": [
    {
     "data": {
      "text/plain": [
       "3.64"
      ]
     },
     "execution_count": 23,
     "metadata": {},
     "output_type": "execute_result"
    }
   ],
   "source": [
    "round(world_cup[world_cup[\"Round\"]==\"Semi-finals\"][\"TotalMatchGoal(s)\"].mean(),2)"
   ]
  },
  {
   "cell_type": "markdown",
   "metadata": {},
   "source": [
    "# 7. How many goals are average goals scored in all Quarter-finals?"
   ]
  },
  {
   "cell_type": "code",
   "execution_count": 24,
   "metadata": {},
   "outputs": [
    {
     "data": {
      "text/plain": [
       "180"
      ]
     },
     "execution_count": 24,
     "metadata": {},
     "output_type": "execute_result"
    }
   ],
   "source": [
    "world_cup[world_cup[\"Round\"]==\"Quarter-finals\"][\"TotalMatchGoal(s)\"].sum()"
   ]
  },
  {
   "cell_type": "code",
   "execution_count": 25,
   "metadata": {
    "scrolled": true
   },
   "outputs": [
    {
     "data": {
      "text/plain": [
       "2.73"
      ]
     },
     "execution_count": 25,
     "metadata": {},
     "output_type": "execute_result"
    }
   ],
   "source": [
    "round(world_cup[world_cup[\"Round\"]==\"Quarter-finals\"][\"TotalMatchGoal(s)\"].mean(),2)"
   ]
  },
  {
   "cell_type": "markdown",
   "metadata": {},
   "source": [
    "# 8. How many matches were played outside of Quarter-finals and above?"
   ]
  },
  {
   "cell_type": "code",
   "execution_count": 26,
   "metadata": {},
   "outputs": [
    {
     "data": {
      "text/plain": [
       "array(['Group 1', 'Group 4', 'Group 2', 'Group 3', 'Semi-finals', 'Final',\n",
       "       'Preliminary round', 'Quarter-finals', 'Match for third place',\n",
       "       'First round', 'Group 6', 'Group B', 'Group A', 'Group 5',\n",
       "       'Group C', 'Group D', 'Group F', 'Group E', 'Round of 16',\n",
       "       'Group H', 'Group G', 'Third place', 'Play-off for third place'],\n",
       "      dtype=object)"
      ]
     },
     "execution_count": 26,
     "metadata": {},
     "output_type": "execute_result"
    }
   ],
   "source": [
    "world_cup[\"Round\"].unique()"
   ]
  },
  {
   "cell_type": "code",
   "execution_count": 27,
   "metadata": {},
   "outputs": [
    {
     "name": "stdout",
     "output_type": "stream",
     "text": [
      "741\n"
     ]
    }
   ],
   "source": [
    "Round=[]\n",
    "for value in list(world_cup[\"Round\"]):\n",
    "    for i in value.split():\n",
    "        if i.startswith((\"G\",\"R\",\"Fir\",\"Pr\")):\n",
    "            Round.append(value)\n",
    "print(len(Round))\n"
   ]
  },
  {
   "cell_type": "markdown",
   "metadata": {},
   "source": [
    "# 9. Create a new column for the outcome of every match(outcome=D for Draw, A for Away team wins, H for home team wins).¶"
   ]
  },
  {
   "cell_type": "code",
   "execution_count": 28,
   "metadata": {},
   "outputs": [],
   "source": [
    "def outcome(world_cup):\n",
    "    \n",
    "    if world_cup[\"HomeGoals\"] > world_cup[\"AwayGoals\"]:\n",
    "        return 'H'\n",
    "    elif world_cup[\"AwayGoals\"] > world_cup[\"HomeGoals\"]:\n",
    "        return 'A'\n",
    "    else:\n",
    "        return 'D'\n",
    "    "
   ]
  },
  {
   "cell_type": "code",
   "execution_count": 29,
   "metadata": {},
   "outputs": [],
   "source": [
    "world_cup[\"outcome\"]= world_cup.apply(outcome,axis=1)"
   ]
  },
  {
   "cell_type": "code",
   "execution_count": 30,
   "metadata": {
    "scrolled": true
   },
   "outputs": [
    {
     "data": {
      "text/html": [
       "<div>\n",
       "<style scoped>\n",
       "    .dataframe tbody tr th:only-of-type {\n",
       "        vertical-align: middle;\n",
       "    }\n",
       "\n",
       "    .dataframe tbody tr th {\n",
       "        vertical-align: top;\n",
       "    }\n",
       "\n",
       "    .dataframe thead th {\n",
       "        text-align: right;\n",
       "    }\n",
       "</style>\n",
       "<table border=\"1\" class=\"dataframe\">\n",
       "  <thead>\n",
       "    <tr style=\"text-align: right;\">\n",
       "      <th></th>\n",
       "      <th>Year</th>\n",
       "      <th>Date</th>\n",
       "      <th>Time</th>\n",
       "      <th>Round</th>\n",
       "      <th>Stadium</th>\n",
       "      <th>City</th>\n",
       "      <th>HomeTeam</th>\n",
       "      <th>HomeGoals</th>\n",
       "      <th>AwayGoals</th>\n",
       "      <th>TotalMatchGoal(s)</th>\n",
       "      <th>AwayTeam</th>\n",
       "      <th>Observation</th>\n",
       "      <th>outcome</th>\n",
       "    </tr>\n",
       "  </thead>\n",
       "  <tbody>\n",
       "    <tr>\n",
       "      <th>0</th>\n",
       "      <td>1930</td>\n",
       "      <td>13-Jul-30</td>\n",
       "      <td>15:00</td>\n",
       "      <td>Group 1</td>\n",
       "      <td>Pocitos</td>\n",
       "      <td>Montevideo</td>\n",
       "      <td>France</td>\n",
       "      <td>4</td>\n",
       "      <td>1</td>\n",
       "      <td>5</td>\n",
       "      <td>Mexico</td>\n",
       "      <td></td>\n",
       "      <td>H</td>\n",
       "    </tr>\n",
       "    <tr>\n",
       "      <th>1</th>\n",
       "      <td>1930</td>\n",
       "      <td>13-Jul-30</td>\n",
       "      <td>15:00</td>\n",
       "      <td>Group 4</td>\n",
       "      <td>Parque Central</td>\n",
       "      <td>Montevideo</td>\n",
       "      <td>USA</td>\n",
       "      <td>3</td>\n",
       "      <td>0</td>\n",
       "      <td>3</td>\n",
       "      <td>Belgium</td>\n",
       "      <td></td>\n",
       "      <td>H</td>\n",
       "    </tr>\n",
       "  </tbody>\n",
       "</table>\n",
       "</div>"
      ],
      "text/plain": [
       "   Year       Date     Time    Round         Stadium         City HomeTeam  \\\n",
       "0  1930  13-Jul-30   15:00   Group 1         Pocitos  Montevideo    France   \n",
       "1  1930  13-Jul-30   15:00   Group 4  Parque Central  Montevideo       USA   \n",
       "\n",
       "   HomeGoals  AwayGoals  TotalMatchGoal(s) AwayTeam Observation outcome  \n",
       "0          4          1                  5   Mexico                   H  \n",
       "1          3          0                  3  Belgium                   H  "
      ]
     },
     "execution_count": 30,
     "metadata": {},
     "output_type": "execute_result"
    }
   ],
   "source": [
    "world_cup.head(2)"
   ]
  },
  {
   "cell_type": "markdown",
   "metadata": {},
   "source": [
    "# 10. Create a new column for the winner of every match, also apply the away goal rule in this column."
   ]
  },
  {
   "cell_type": "code",
   "execution_count": 31,
   "metadata": {},
   "outputs": [],
   "source": [
    "def match_winner(world_cup):\n",
    "    \n",
    "    if world_cup[\"HomeGoals\"] > world_cup[\"AwayGoals\"]:\n",
    "        return world_cup[\"HomeTeam\"]\n",
    "    if world_cup[\"AwayGoals\"] > world_cup[\"HomeGoals\"]:\n",
    "        return world_cup[\"AwayTeam\"]\n",
    "    if (world_cup[\"AwayGoals\"]==0) & (world_cup[\"HomeGoals\"]==0):\n",
    "        return 'Draw'\n",
    "    else:\n",
    "        return world_cup[\"AwayTeam\"]"
   ]
  },
  {
   "cell_type": "code",
   "execution_count": 33,
   "metadata": {},
   "outputs": [
    {
     "data": {
      "text/plain": [
       "Draw          72\n",
       "Brazil        72\n",
       "Italy         48\n",
       "Argentina     48\n",
       "Germany FR    37\n",
       "Name: MatchWinner, dtype: int64"
      ]
     },
     "execution_count": 33,
     "metadata": {},
     "output_type": "execute_result"
    }
   ],
   "source": [
    "world_cup[\"MatchWinner\"]= world_cup.apply(match_winner,axis=1)\n",
    "world_cup[\"MatchWinner\"].value_counts().head()"
   ]
  },
  {
   "cell_type": "code",
   "execution_count": null,
   "metadata": {},
   "outputs": [],
   "source": []
  }
 ],
 "metadata": {
  "kernelspec": {
   "display_name": "Python 3",
   "language": "python",
   "name": "python3"
  },
  "language_info": {
   "codemirror_mode": {
    "name": "ipython",
    "version": 3
   },
   "file_extension": ".py",
   "mimetype": "text/x-python",
   "name": "python",
   "nbconvert_exporter": "python",
   "pygments_lexer": "ipython3",
   "version": "3.7.3"
  }
 },
 "nbformat": 4,
 "nbformat_minor": 2
}
